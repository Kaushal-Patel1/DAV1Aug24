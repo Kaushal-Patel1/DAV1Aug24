{
  "nbformat": 4,
  "nbformat_minor": 0,
  "metadata": {
    "colab": {
      "provenance": [],
      "authorship_tag": "ABX9TyMjdSlJopjTyNbhzDFymwAZ",
      "include_colab_link": true
    },
    "kernelspec": {
      "name": "python3",
      "display_name": "Python 3"
    },
    "language_info": {
      "name": "python"
    }
  },
  "cells": [
    {
      "cell_type": "markdown",
      "metadata": {
        "id": "view-in-github",
        "colab_type": "text"
      },
      "source": [
        "<a href=\"https://colab.research.google.com/github/SachinScaler/DAV1Aug24/blob/main/Numpy_1%7CLecture.ipynb\" target=\"_parent\"><img src=\"https://colab.research.google.com/assets/colab-badge.svg\" alt=\"Open In Colab\"/></a>"
      ]
    },
    {
      "cell_type": "markdown",
      "source": [
        "## Why NumPy is Faster Than Python Lists\n",
        "\n",
        "NumPy arrays are significantly faster than Python lists due to several key factors:\n",
        "\n",
        "### 1. Homogeneous Data Types:\n",
        "* **NumPy arrays:** Store elements of the same data type, leading to efficient memory allocation and operations.\n",
        "* **Python lists:** Can store elements of different data types, requiring more overhead for type checking and memory management.\n",
        "\n",
        "### 2. Contiguous Memory Allocation:\n",
        "* **NumPy arrays:** Elements are stored in a continuous block of memory, allowing for faster data access and manipulation.\n",
        "* **Python lists:** Elements can be scattered across memory, leading to slower access and processing.\n",
        "\n",
        "### 3. Vectorized Operations:\n",
        "* **NumPy:** Supports vectorized operations, performing calculations on entire arrays at once, leveraging CPU optimizations.\n",
        "* **Python lists:** Require element-wise operations using loops, which is generally slower.\n",
        "\n",
        "### 4. C-Based Implementation:\n",
        "* **NumPy:** Many core operations are implemented in C, providing significant performance gains compared to Python's interpreted nature.\n",
        "* **Python lists:** Rely on Python's interpreter for operations, which introduces overhead.\n",
        "\n",
        "### 5. Optimized for Numerical Computations:\n",
        "* **NumPy:** Specifically designed for numerical computations, offering a rich set of mathematical functions.\n",
        "* **Python lists:** Are general-purpose data structures, not optimized for numerical calculations.\n",
        "\n",
        "\n",
        "Typically, the NumPy array will be significantly faster for this operation.\n",
        "\n",
        "**In summary,** NumPy's specialized design, efficient memory layout, vectorized operations, and C-based implementation make it a superior choice for numerical computations compared to Python lists.\n"
      ],
      "metadata": {
        "id": "rbekDk4hk74R"
      }
    },
    {
      "cell_type": "markdown",
      "source": [
        "### Install numpy:\n",
        "\n",
        "```\n",
        "!pip install numpy  # in jupyter\n",
        "\n",
        "pip install numpy # if you are installing via CLI\n",
        "```"
      ],
      "metadata": {
        "id": "I2yAT80qFMQt"
      }
    },
    {
      "cell_type": "code",
      "source": [],
      "metadata": {
        "id": "Z94OjIhLE_in"
      },
      "execution_count": null,
      "outputs": []
    },
    {
      "cell_type": "code",
      "source": [
        "!pip install numpy"
      ],
      "metadata": {
        "colab": {
          "base_uri": "https://localhost:8080/"
        },
        "id": "QMRUUXQ1FD8q",
        "outputId": "886e7cde-6417-4ccc-c0b0-d70e72e85e02"
      },
      "execution_count": null,
      "outputs": [
        {
          "output_type": "stream",
          "name": "stdout",
          "text": [
            "Requirement already satisfied: numpy in /usr/local/lib/python3.10/dist-packages (1.26.4)\n"
          ]
        }
      ]
    },
    {
      "cell_type": "markdown",
      "source": [
        "### Import numpy with alias as np"
      ],
      "metadata": {
        "id": "Bb_iQyG2Fsdf"
      }
    },
    {
      "cell_type": "code",
      "source": [
        "import numpy as np"
      ],
      "metadata": {
        "id": "j7sO75ffFD5g"
      },
      "execution_count": null,
      "outputs": []
    },
    {
      "cell_type": "markdown",
      "source": [
        "### Convert List to Array"
      ],
      "metadata": {
        "id": "4DQ2jlK_GAbK"
      }
    },
    {
      "cell_type": "code",
      "source": [
        "a = [1, 2, 3, 4]\n",
        "\n",
        "type(a)"
      ],
      "metadata": {
        "colab": {
          "base_uri": "https://localhost:8080/"
        },
        "id": "bkYUCGlAFD2X",
        "outputId": "fc09fa35-4c24-422f-89eb-32e359e0709f"
      },
      "execution_count": null,
      "outputs": [
        {
          "output_type": "execute_result",
          "data": {
            "text/plain": [
              "list"
            ]
          },
          "metadata": {},
          "execution_count": 3
        }
      ]
    },
    {
      "cell_type": "code",
      "source": [
        "a_arr = np.array(a)\n",
        "type(a_arr)"
      ],
      "metadata": {
        "colab": {
          "base_uri": "https://localhost:8080/"
        },
        "id": "jadtaV_2GG-Y",
        "outputId": "32262515-b868-4c58-b0df-e46d5bceb97e"
      },
      "execution_count": null,
      "outputs": [
        {
          "output_type": "execute_result",
          "data": {
            "text/plain": [
              "numpy.ndarray"
            ]
          },
          "metadata": {},
          "execution_count": 4
        }
      ]
    },
    {
      "cell_type": "code",
      "source": [
        "a = [1, 2, 3, \"4\"]\n",
        "\n",
        "type(a)"
      ],
      "metadata": {
        "colab": {
          "base_uri": "https://localhost:8080/"
        },
        "id": "h9_9OkH3GP4C",
        "outputId": "b23b6e87-ab86-40d5-891b-7259851e06b4"
      },
      "execution_count": null,
      "outputs": [
        {
          "output_type": "execute_result",
          "data": {
            "text/plain": [
              "list"
            ]
          },
          "metadata": {},
          "execution_count": 5
        }
      ]
    },
    {
      "cell_type": "code",
      "source": [
        "a_arr = np.array(a)\n",
        "type(a_arr)"
      ],
      "metadata": {
        "colab": {
          "base_uri": "https://localhost:8080/"
        },
        "id": "W12y2RivGR48",
        "outputId": "b0074d7a-7e88-40ab-df11-ae84fd26beec"
      },
      "execution_count": null,
      "outputs": [
        {
          "output_type": "execute_result",
          "data": {
            "text/plain": [
              "numpy.ndarray"
            ]
          },
          "metadata": {},
          "execution_count": 6
        }
      ]
    },
    {
      "cell_type": "code",
      "source": [
        "a_arr"
      ],
      "metadata": {
        "colab": {
          "base_uri": "https://localhost:8080/"
        },
        "id": "ij5Ubmq1GWK5",
        "outputId": "3c529174-d93b-4bad-b374-08e812979bd9"
      },
      "execution_count": null,
      "outputs": [
        {
          "output_type": "execute_result",
          "data": {
            "text/plain": [
              "array(['1', '2', '3', '4'], dtype='<U21')"
            ]
          },
          "metadata": {},
          "execution_count": 7
        }
      ]
    },
    {
      "cell_type": "code",
      "source": [
        "a = [1, 2, 3, \"Bhargav\"]\n",
        "# automatic type conversion\n",
        "a_arr = np.array(a)\n",
        "a_arr"
      ],
      "metadata": {
        "colab": {
          "base_uri": "https://localhost:8080/"
        },
        "id": "GVOV8tB7GreV",
        "outputId": "b1a25d26-c436-48ef-b910-ad07356f08f5"
      },
      "execution_count": null,
      "outputs": [
        {
          "output_type": "execute_result",
          "data": {
            "text/plain": [
              "array(['1', '2', '3', 'Bhargav'], dtype='<U21')"
            ]
          },
          "metadata": {},
          "execution_count": 9
        }
      ]
    },
    {
      "cell_type": "code",
      "source": [
        "a = [1, 2, 3, 4.0]\n",
        "# automatic type conversion\n",
        "a_arr = np.array(a)\n",
        "a_arr"
      ],
      "metadata": {
        "colab": {
          "base_uri": "https://localhost:8080/"
        },
        "id": "XzPNTqhlHHgG",
        "outputId": "884f1f45-f200-4246-8ee4-5baa455b0cef"
      },
      "execution_count": null,
      "outputs": [
        {
          "output_type": "execute_result",
          "data": {
            "text/plain": [
              "array([1., 2., 3., 4.])"
            ]
          },
          "metadata": {},
          "execution_count": 12
        }
      ]
    },
    {
      "cell_type": "markdown",
      "source": [
        "### Numpy supports element wise Operations:\n",
        "\n",
        "NOTE: Read about Vectorization of Code"
      ],
      "metadata": {
        "id": "aITw6blvl6wC"
      }
    },
    {
      "cell_type": "code",
      "source": [
        "# generate square of below list\n",
        "list1 = list(range(10000000))\n",
        "list1 = [i**2 for i in list1]\n",
        "list1[:5]"
      ],
      "metadata": {
        "id": "mbgNZLWwl7Y_",
        "colab": {
          "base_uri": "https://localhost:8080/"
        },
        "outputId": "332a676c-85e6-4359-ee68-1f3ec02c7e00"
      },
      "execution_count": null,
      "outputs": [
        {
          "output_type": "execute_result",
          "data": {
            "text/plain": [
              "[0, 1, 4, 9, 16]"
            ]
          },
          "metadata": {},
          "execution_count": 16
        }
      ]
    },
    {
      "cell_type": "markdown",
      "source": [
        "Using numpy"
      ],
      "metadata": {
        "id": "KXKr6_EOl6tK"
      }
    },
    {
      "cell_type": "code",
      "source": [
        "list1**2"
      ],
      "metadata": {
        "id": "mGsL67_Gl_LG",
        "colab": {
          "base_uri": "https://localhost:8080/",
          "height": 158
        },
        "outputId": "a921cc41-f641-4e95-c0b1-d4a96b82fe30"
      },
      "execution_count": null,
      "outputs": [
        {
          "output_type": "error",
          "ename": "TypeError",
          "evalue": "unsupported operand type(s) for ** or pow(): 'list' and 'int'",
          "traceback": [
            "\u001b[0;31m---------------------------------------------------------------------------\u001b[0m",
            "\u001b[0;31mTypeError\u001b[0m                                 Traceback (most recent call last)",
            "\u001b[0;32m<ipython-input-17-8b78ecb3fb38>\u001b[0m in \u001b[0;36m<cell line: 1>\u001b[0;34m()\u001b[0m\n\u001b[0;32m----> 1\u001b[0;31m \u001b[0mlist1\u001b[0m\u001b[0;34m**\u001b[0m\u001b[0;36m2\u001b[0m\u001b[0;34m\u001b[0m\u001b[0;34m\u001b[0m\u001b[0m\n\u001b[0m",
            "\u001b[0;31mTypeError\u001b[0m: unsupported operand type(s) for ** or pow(): 'list' and 'int'"
          ]
        }
      ]
    },
    {
      "cell_type": "code",
      "source": [
        "list1 = list(range(10000000))\n",
        "list1_arr = np.array(list1)"
      ],
      "metadata": {
        "id": "rpV6TRDZl7WL"
      },
      "execution_count": null,
      "outputs": []
    },
    {
      "cell_type": "code",
      "source": [
        "list1_arr**2 # element wise operations"
      ],
      "metadata": {
        "colab": {
          "base_uri": "https://localhost:8080/"
        },
        "id": "DH42OWdEIjKn",
        "outputId": "25b83130-0d7e-4212-e3d7-73ecb5e2d8fc"
      },
      "execution_count": null,
      "outputs": [
        {
          "output_type": "execute_result",
          "data": {
            "text/plain": [
              "array([             0,              1,              4, ...,\n",
              "       99999940000009, 99999960000004, 99999980000001])"
            ]
          },
          "metadata": {},
          "execution_count": 19
        }
      ]
    },
    {
      "cell_type": "code",
      "source": [
        "import time\n",
        "\n",
        "start = time.time() # UNIX TIMESTAMP\n",
        "start"
      ],
      "metadata": {
        "colab": {
          "base_uri": "https://localhost:8080/"
        },
        "id": "2mdyPZqNI_kj",
        "outputId": "5de9668a-3d6c-45a4-bce4-9782c8637d7e"
      },
      "execution_count": null,
      "outputs": [
        {
          "output_type": "execute_result",
          "data": {
            "text/plain": [
              "1723861328.0014448"
            ]
          },
          "metadata": {},
          "execution_count": 21
        }
      ]
    },
    {
      "cell_type": "code",
      "source": [
        "end = time.time() # UNIX TIMESTAMP\n",
        "end"
      ],
      "metadata": {
        "colab": {
          "base_uri": "https://localhost:8080/"
        },
        "id": "w-35SgvDJGzv",
        "outputId": "771257f5-7406-41d9-a4f9-3b1b4a74eaf9"
      },
      "execution_count": null,
      "outputs": [
        {
          "output_type": "execute_result",
          "data": {
            "text/plain": [
              "1723861342.500823"
            ]
          },
          "metadata": {},
          "execution_count": 22
        }
      ]
    },
    {
      "cell_type": "code",
      "source": [
        "end - start"
      ],
      "metadata": {
        "colab": {
          "base_uri": "https://localhost:8080/"
        },
        "id": "rjvkXHtfJPZq",
        "outputId": "61c56015-6437-47e3-ef8d-f0edd6763a40"
      },
      "execution_count": null,
      "outputs": [
        {
          "output_type": "execute_result",
          "data": {
            "text/plain": [
              "14.499378204345703"
            ]
          },
          "metadata": {},
          "execution_count": 23
        }
      ]
    },
    {
      "cell_type": "markdown",
      "source": [
        "### Speed Comparisons:"
      ],
      "metadata": {
        "id": "bxCuYre2l1vv"
      }
    },
    {
      "cell_type": "markdown",
      "source": [
        "Sum All Numbers in list/array"
      ],
      "metadata": {
        "id": "Zj6ysCVimFM5"
      }
    },
    {
      "cell_type": "code",
      "execution_count": null,
      "metadata": {
        "colab": {
          "base_uri": "https://localhost:8080/"
        },
        "id": "bcQkYXmck7MD",
        "outputId": "babeb506-2193-416d-bc52-b041d5425fe5"
      },
      "outputs": [
        {
          "output_type": "stream",
          "name": "stdout",
          "text": [
            "List time: 0.06828856468200684\n",
            "Array time: 0.007622957229614258\n",
            "Speedup: 8.958277296468896\n"
          ]
        }
      ],
      "source": [
        "import numpy as np\n",
        "import time\n",
        "\n",
        "# Create a large list and NumPy array\n",
        "list_data = list(range(10000000))\n",
        "array_data = np.array(list_data)\n",
        "\n",
        "# Time the sum operation: ListData\n",
        "start_time = time.time()\n",
        "sum_list = sum(list_data) # sum of all number\n",
        "end_time = time.time()\n",
        "list_time = end_time - start_time\n",
        "\n",
        "# Time the sum operation: ArrayData\n",
        "start_time = time.time()\n",
        "sum_array = np.sum(array_data)\n",
        "end_time = time.time()\n",
        "array_time = end_time - start_time\n",
        "\n",
        "print(\"List time:\", list_time)\n",
        "print(\"Array time:\", array_time)\n",
        "print(\"Speedup:\", list_time / array_time)"
      ]
    },
    {
      "cell_type": "markdown",
      "source": [
        "square all numbers of a list/array"
      ],
      "metadata": {
        "id": "r8twpBmmmIFT"
      }
    },
    {
      "cell_type": "code",
      "source": [
        "import numpy as np\n",
        "import time\n",
        "\n",
        "# Create a large list and NumPy array\n",
        "list_data = list(range(10000000))\n",
        "array_data = np.array(list_data)\n",
        "\n",
        "# Time the sqaure operation: ListData\n",
        "start_time = time.time()\n",
        "sq_list = [i**2 for i in list_data]\n",
        "end_time = time.time()\n",
        "list_time = end_time - start_time\n",
        "\n",
        "# Time the sqaure operation: Numpy\n",
        "start_time = time.time()\n",
        "sq_array = array_data**2\n",
        "end_time = time.time()\n",
        "array_time = end_time - start_time\n",
        "\n",
        "print(\"List time:\", list_time)\n",
        "print(\"Array time:\", array_time)\n",
        "print(\"Speedup:\", list_time / array_time)"
      ],
      "metadata": {
        "colab": {
          "base_uri": "https://localhost:8080/"
        },
        "id": "SvhNf4n_lCJ2",
        "outputId": "1f375895-01a5-44d3-f1fd-b5af7b628298"
      },
      "execution_count": null,
      "outputs": [
        {
          "output_type": "stream",
          "name": "stdout",
          "text": [
            "List time: 3.8075389862060547\n",
            "Array time: 0.02696681022644043\n",
            "Speedup: 141.19352471553483\n"
          ]
        }
      ]
    },
    {
      "cell_type": "markdown",
      "source": [
        "Vectorization: the task is divided into subtasks and each task is performed independently in parallel"
      ],
      "metadata": {
        "id": "sAZefN684Jdc"
      }
    },
    {
      "cell_type": "code",
      "source": [
        "# Create a large list and NumPy array\n",
        "list_data = list(range(10000000))\n",
        "array_data = np.array(list_data)"
      ],
      "metadata": {
        "id": "ZFjNJDo14Jz4"
      },
      "execution_count": null,
      "outputs": []
    },
    {
      "cell_type": "markdown",
      "source": [
        "## Dimension of an array"
      ],
      "metadata": {
        "id": "9FWF_aoq4Gqd"
      }
    },
    {
      "cell_type": "code",
      "source": [
        "array_data.ndim"
      ],
      "metadata": {
        "id": "ok31NKqv4KH4",
        "colab": {
          "base_uri": "https://localhost:8080/"
        },
        "outputId": "3eafa166-bb67-4bcd-9e9d-650e163c1060"
      },
      "execution_count": null,
      "outputs": [
        {
          "output_type": "execute_result",
          "data": {
            "text/plain": [
              "1"
            ]
          },
          "metadata": {},
          "execution_count": 26
        }
      ]
    },
    {
      "cell_type": "markdown",
      "source": [
        "shape of an array"
      ],
      "metadata": {
        "id": "ahVtjxsN4Gnm"
      }
    },
    {
      "cell_type": "code",
      "source": [
        "array_data.shape"
      ],
      "metadata": {
        "id": "XO6P8FxH4Kvj",
        "colab": {
          "base_uri": "https://localhost:8080/"
        },
        "outputId": "edd39afe-86f1-4134-c98e-7670c5777d35"
      },
      "execution_count": null,
      "outputs": [
        {
          "output_type": "execute_result",
          "data": {
            "text/plain": [
              "(10000000,)"
            ]
          },
          "metadata": {},
          "execution_count": 27
        }
      ]
    },
    {
      "cell_type": "code",
      "source": [
        "arr2 = np.array([[1,2], [3,4], [6,7]])\n",
        "arr2.ndim"
      ],
      "metadata": {
        "colab": {
          "base_uri": "https://localhost:8080/"
        },
        "id": "F-a0IH0PLw_-",
        "outputId": "ca3e44b0-8c92-40b4-d587-e8da354f20e7"
      },
      "execution_count": null,
      "outputs": [
        {
          "output_type": "execute_result",
          "data": {
            "text/plain": [
              "2"
            ]
          },
          "metadata": {},
          "execution_count": 28
        }
      ]
    },
    {
      "cell_type": "code",
      "source": [
        "arr2.shape # dimension wise shape"
      ],
      "metadata": {
        "colab": {
          "base_uri": "https://localhost:8080/"
        },
        "id": "1ORlhvtqL6Vg",
        "outputId": "7fac42ae-999e-4cd4-9af0-4696b70022bb"
      },
      "execution_count": null,
      "outputs": [
        {
          "output_type": "execute_result",
          "data": {
            "text/plain": [
              "(3, 2)"
            ]
          },
          "metadata": {},
          "execution_count": 30
        }
      ]
    },
    {
      "cell_type": "code",
      "source": [
        "len(arr2)"
      ],
      "metadata": {
        "colab": {
          "base_uri": "https://localhost:8080/"
        },
        "id": "gyLHy2YtMT_o",
        "outputId": "7aea46a9-565c-43db-af03-7b290402646d"
      },
      "execution_count": null,
      "outputs": [
        {
          "output_type": "execute_result",
          "data": {
            "text/plain": [
              "3"
            ]
          },
          "metadata": {},
          "execution_count": 32
        }
      ]
    },
    {
      "cell_type": "markdown",
      "source": [
        "# func(arr2) : you are calling a function and pass arr2\n",
        "# arr2.func(): you are callling method of arr class using arr2 object\n",
        "\n",
        "\n"
      ],
      "metadata": {
        "id": "j0C4-LGjMefA"
      }
    },
    {
      "cell_type": "code",
      "source": [
        "a = np.array([1,2,3,4,5,6,7,8])\n",
        "print(a.ndim, a.shape)"
      ],
      "metadata": {
        "colab": {
          "base_uri": "https://localhost:8080/"
        },
        "id": "0wX8dhxQMeOk",
        "outputId": "19d44955-85c6-492e-8298-f0e2de371eff"
      },
      "execution_count": null,
      "outputs": [
        {
          "output_type": "stream",
          "name": "stdout",
          "text": [
            "1 (8,)\n"
          ]
        }
      ]
    },
    {
      "cell_type": "markdown",
      "source": [
        "### How do i get total number of elements then?"
      ],
      "metadata": {
        "id": "HZVwqwb0MJJv"
      }
    },
    {
      "cell_type": "markdown",
      "source": [
        "### range function:"
      ],
      "metadata": {
        "id": "hTXPzlHNNgRh"
      }
    },
    {
      "cell_type": "code",
      "source": [
        "# Create a large list and NumPy array\n",
        "list_data = list(range(10000000))\n",
        "array_data = np.array(list_data)"
      ],
      "metadata": {
        "id": "KP874lQMNgu8"
      },
      "execution_count": null,
      "outputs": []
    },
    {
      "cell_type": "markdown",
      "source": [
        "### arange\n",
        "```\n",
        "arange(start, end, step)\n",
        "```\n"
      ],
      "metadata": {
        "id": "VE1z06bvNzsI"
      }
    },
    {
      "cell_type": "code",
      "source": [
        "array_data = np.arange(10000000)\n",
        "array_data.shape"
      ],
      "metadata": {
        "colab": {
          "base_uri": "https://localhost:8080/"
        },
        "id": "o3zBq1bcNqrX",
        "outputId": "bdcda34f-8590-4beb-d5e3-ebf139b1d3b5"
      },
      "execution_count": null,
      "outputs": [
        {
          "output_type": "execute_result",
          "data": {
            "text/plain": [
              "(10000000,)"
            ]
          },
          "metadata": {},
          "execution_count": 35
        }
      ]
    },
    {
      "cell_type": "markdown",
      "source": [],
      "metadata": {
        "id": "1sHD03eZOE8K"
      }
    },
    {
      "cell_type": "code",
      "source": [
        "array_data = np.arange(1, 5, 2)\n",
        "array_data.shape"
      ],
      "metadata": {
        "colab": {
          "base_uri": "https://localhost:8080/"
        },
        "id": "UK8aAJbvN9LQ",
        "outputId": "043896a1-4180-4da0-aea7-d357c0e1d5e6"
      },
      "execution_count": null,
      "outputs": [
        {
          "output_type": "execute_result",
          "data": {
            "text/plain": [
              "(2,)"
            ]
          },
          "metadata": {},
          "execution_count": 36
        }
      ]
    },
    {
      "cell_type": "code",
      "source": [
        "array_data"
      ],
      "metadata": {
        "colab": {
          "base_uri": "https://localhost:8080/"
        },
        "id": "1EZCaBhLOQVu",
        "outputId": "85ed1656-1847-4038-c7c6-0e87464d199c"
      },
      "execution_count": null,
      "outputs": [
        {
          "output_type": "execute_result",
          "data": {
            "text/plain": [
              "array([1, 3])"
            ]
          },
          "metadata": {},
          "execution_count": 37
        }
      ]
    },
    {
      "cell_type": "markdown",
      "source": [
        "#### arange can also take float as stepsize"
      ],
      "metadata": {
        "id": "LG5Z-qHK4Gk-"
      }
    },
    {
      "cell_type": "code",
      "source": [
        "list_data = list(range(1,5,0.5))\n",
        "list_data"
      ],
      "metadata": {
        "colab": {
          "base_uri": "https://localhost:8080/",
          "height": 175
        },
        "id": "vJg1ibd_OeKq",
        "outputId": "22fcbd54-df06-4a0b-d633-8e89956c720c"
      },
      "execution_count": null,
      "outputs": [
        {
          "output_type": "error",
          "ename": "TypeError",
          "evalue": "'float' object cannot be interpreted as an integer",
          "traceback": [
            "\u001b[0;31m---------------------------------------------------------------------------\u001b[0m",
            "\u001b[0;31mTypeError\u001b[0m                                 Traceback (most recent call last)",
            "\u001b[0;32m<ipython-input-38-d949c24fa434>\u001b[0m in \u001b[0;36m<cell line: 1>\u001b[0;34m()\u001b[0m\n\u001b[0;32m----> 1\u001b[0;31m \u001b[0mlist_data\u001b[0m \u001b[0;34m=\u001b[0m \u001b[0mlist\u001b[0m\u001b[0;34m(\u001b[0m\u001b[0mrange\u001b[0m\u001b[0;34m(\u001b[0m\u001b[0;36m1\u001b[0m\u001b[0;34m,\u001b[0m\u001b[0;36m5\u001b[0m\u001b[0;34m,\u001b[0m\u001b[0;36m0.5\u001b[0m\u001b[0;34m)\u001b[0m\u001b[0;34m)\u001b[0m\u001b[0;34m\u001b[0m\u001b[0;34m\u001b[0m\u001b[0m\n\u001b[0m\u001b[1;32m      2\u001b[0m \u001b[0mlist_data\u001b[0m\u001b[0;34m\u001b[0m\u001b[0;34m\u001b[0m\u001b[0m\n",
            "\u001b[0;31mTypeError\u001b[0m: 'float' object cannot be interpreted as an integer"
          ]
        }
      ]
    },
    {
      "cell_type": "code",
      "source": [
        "array_data = np.arange(1, 5, 0.5)\n",
        "array_data"
      ],
      "metadata": {
        "colab": {
          "base_uri": "https://localhost:8080/"
        },
        "id": "9DArXnaeOpLJ",
        "outputId": "e86542c3-0aff-4f14-9aca-6da79c54cc50"
      },
      "execution_count": null,
      "outputs": [
        {
          "output_type": "execute_result",
          "data": {
            "text/plain": [
              "array([1. , 1.5, 2. , 2.5, 3. , 3.5, 4. , 4.5])"
            ]
          },
          "metadata": {},
          "execution_count": 40
        }
      ]
    },
    {
      "cell_type": "code",
      "source": [
        "array_data = np.arange(1, 5, 2)\n",
        "\n",
        "array_data ** 2"
      ],
      "metadata": {
        "colab": {
          "base_uri": "https://localhost:8080/"
        },
        "id": "-PiFaMuSO1nK",
        "outputId": "31a40370-927f-41b9-abcc-80fe4a0c7d0b"
      },
      "execution_count": null,
      "outputs": [
        {
          "output_type": "execute_result",
          "data": {
            "text/plain": [
              "array([1, 9])"
            ]
          },
          "metadata": {},
          "execution_count": 41
        }
      ]
    },
    {
      "cell_type": "code",
      "source": [
        "array_data"
      ],
      "metadata": {
        "colab": {
          "base_uri": "https://localhost:8080/"
        },
        "id": "UOsW4raCPJck",
        "outputId": "ec343dc8-1455-48c0-8461-22be0ecc6e28"
      },
      "execution_count": null,
      "outputs": [
        {
          "output_type": "execute_result",
          "data": {
            "text/plain": [
              "array([1, 3])"
            ]
          },
          "metadata": {},
          "execution_count": 44
        }
      ]
    },
    {
      "cell_type": "code",
      "source": [
        "array_data + 2# 1,9 ,2 or 3, 5"
      ],
      "metadata": {
        "colab": {
          "base_uri": "https://localhost:8080/"
        },
        "id": "KXx3QZrtO1kF",
        "outputId": "7cb744b2-ff49-4a2d-91cf-b35ce3714ace"
      },
      "execution_count": null,
      "outputs": [
        {
          "output_type": "execute_result",
          "data": {
            "text/plain": [
              "array([3, 5])"
            ]
          },
          "metadata": {},
          "execution_count": 43
        }
      ]
    },
    {
      "cell_type": "code",
      "source": [
        "# Can we overwrite multiple elements as well?"
      ],
      "metadata": {
        "id": "IctQ_aUuPUd2"
      },
      "execution_count": null,
      "outputs": []
    },
    {
      "cell_type": "code",
      "source": [
        "array_data = np.arange(1, 5)\n",
        "array_data"
      ],
      "metadata": {
        "colab": {
          "base_uri": "https://localhost:8080/"
        },
        "id": "AzsznW_yPUbJ",
        "outputId": "6949efd9-cf04-40bf-ae5a-7b5cec17186e"
      },
      "execution_count": null,
      "outputs": [
        {
          "output_type": "execute_result",
          "data": {
            "text/plain": [
              "array([1, 2, 3, 4])"
            ]
          },
          "metadata": {},
          "execution_count": 46
        }
      ]
    },
    {
      "cell_type": "code",
      "source": [
        "array_data[2:4]"
      ],
      "metadata": {
        "colab": {
          "base_uri": "https://localhost:8080/"
        },
        "id": "VEJbDVd3PdJc",
        "outputId": "46133acb-42bf-4518-b349-2a3082dcb342"
      },
      "execution_count": null,
      "outputs": [
        {
          "output_type": "execute_result",
          "data": {
            "text/plain": [
              "array([3, 4])"
            ]
          },
          "metadata": {},
          "execution_count": 47
        }
      ]
    },
    {
      "cell_type": "code",
      "source": [
        "array_data[2:4] = -99"
      ],
      "metadata": {
        "id": "Z6l2uXhdPooM"
      },
      "execution_count": null,
      "outputs": []
    },
    {
      "cell_type": "code",
      "source": [
        "array_data"
      ],
      "metadata": {
        "colab": {
          "base_uri": "https://localhost:8080/"
        },
        "id": "mFYSsQc1PuFI",
        "outputId": "e0f8687f-9c54-45d8-85bc-7a97c4e4c76d"
      },
      "execution_count": null,
      "outputs": [
        {
          "output_type": "execute_result",
          "data": {
            "text/plain": [
              "array([  1,   2, -99, -99])"
            ]
          },
          "metadata": {},
          "execution_count": 49
        }
      ]
    },
    {
      "cell_type": "code",
      "source": [
        "array_data = np.arange(1, 10)\n",
        "array_data[5:]"
      ],
      "metadata": {
        "colab": {
          "base_uri": "https://localhost:8080/"
        },
        "id": "CPNp-_WPQOdD",
        "outputId": "61479cc7-da32-4ba8-ea3a-a408f8f08cf8"
      },
      "execution_count": null,
      "outputs": [
        {
          "output_type": "execute_result",
          "data": {
            "text/plain": [
              "array([6, 7, 8, 9])"
            ]
          },
          "metadata": {},
          "execution_count": 50
        }
      ]
    },
    {
      "cell_type": "code",
      "source": [
        "array_data[5:] + 10"
      ],
      "metadata": {
        "colab": {
          "base_uri": "https://localhost:8080/"
        },
        "id": "L0exwfKZQdbE",
        "outputId": "4070aa86-d6d4-4181-c31e-8336ff9658da"
      },
      "execution_count": null,
      "outputs": [
        {
          "output_type": "execute_result",
          "data": {
            "text/plain": [
              "array([16, 17, 18, 19])"
            ]
          },
          "metadata": {},
          "execution_count": 51
        }
      ]
    },
    {
      "cell_type": "code",
      "source": [
        "array_data[5:] = 10\n",
        "array_data[5:]"
      ],
      "metadata": {
        "colab": {
          "base_uri": "https://localhost:8080/"
        },
        "id": "gFW_s378QiBE",
        "outputId": "6ca9c575-bc72-4c1e-9e26-9ad4a8755251"
      },
      "execution_count": null,
      "outputs": [
        {
          "output_type": "execute_result",
          "data": {
            "text/plain": [
              "array([10, 10, 10, 10])"
            ]
          },
          "metadata": {},
          "execution_count": 52
        }
      ]
    },
    {
      "cell_type": "code",
      "source": [
        "array_data"
      ],
      "metadata": {
        "id": "DAV46db3QrtF",
        "outputId": "706b48ed-3aaa-466e-e7ed-720c712dfb8a",
        "colab": {
          "base_uri": "https://localhost:8080/"
        }
      },
      "execution_count": null,
      "outputs": [
        {
          "output_type": "execute_result",
          "data": {
            "text/plain": [
              "array([ 1,  2,  3,  4,  5, 10, 10, 10, 10])"
            ]
          },
          "metadata": {},
          "execution_count": 53
        }
      ]
    },
    {
      "cell_type": "markdown",
      "source": [
        "### Data Conversion"
      ],
      "metadata": {
        "id": "n1MyhJtz4GiI"
      }
    },
    {
      "cell_type": "code",
      "source": [
        "arr4 = np.array([1, 2, 3, 4])\n",
        "arr4.dtype"
      ],
      "metadata": {
        "colab": {
          "base_uri": "https://localhost:8080/"
        },
        "id": "dJkhOoQNSosq",
        "outputId": "17ffd0ae-97ab-4229-efae-71686da897f7"
      },
      "execution_count": 58,
      "outputs": [
        {
          "output_type": "execute_result",
          "data": {
            "text/plain": [
              "dtype('int64')"
            ]
          },
          "metadata": {},
          "execution_count": 58
        }
      ]
    },
    {
      "cell_type": "code",
      "source": [
        "arr4 = np.array([1, 2, 3, 4.0])\n",
        "arr4.dtype"
      ],
      "metadata": {
        "colab": {
          "base_uri": "https://localhost:8080/"
        },
        "id": "LpVqUidjSt9N",
        "outputId": "08db0d91-3d85-40fc-b9ba-69f82aa21a15"
      },
      "execution_count": 59,
      "outputs": [
        {
          "output_type": "execute_result",
          "data": {
            "text/plain": [
              "dtype('float64')"
            ]
          },
          "metadata": {},
          "execution_count": 59
        }
      ]
    },
    {
      "cell_type": "markdown",
      "source": [
        "type coversion while creating array:"
      ],
      "metadata": {
        "id": "bh_ypIXJ4Gfh"
      }
    },
    {
      "cell_type": "code",
      "source": [
        "arr4 = np.array([1, 2, 3, 4], dtype = \"float\")\n",
        "print(arr4)\n",
        "print(arr4.dtype)"
      ],
      "metadata": {
        "colab": {
          "base_uri": "https://localhost:8080/"
        },
        "id": "id0rpuBNTIbw",
        "outputId": "286aaba4-de82-40cf-8516-63465663d01a"
      },
      "execution_count": 62,
      "outputs": [
        {
          "output_type": "stream",
          "name": "stdout",
          "text": [
            "[1. 2. 3. 4.]\n",
            "float64\n"
          ]
        }
      ]
    },
    {
      "cell_type": "code",
      "source": [
        "arr = np.array([\"1\", 2, 3, 4], dtype = \"int\")\n",
        "print(arr)\n",
        "print(arr.dtype)"
      ],
      "metadata": {
        "colab": {
          "base_uri": "https://localhost:8080/"
        },
        "id": "gaPP2YNgTWnY",
        "outputId": "a40db03e-f0e0-4e07-8a82-b8f3ef25e95b"
      },
      "execution_count": 63,
      "outputs": [
        {
          "output_type": "stream",
          "name": "stdout",
          "text": [
            "[1 2 3 4]\n",
            "int64\n"
          ]
        }
      ]
    },
    {
      "cell_type": "code",
      "source": [
        "int(\"1\")"
      ],
      "metadata": {
        "colab": {
          "base_uri": "https://localhost:8080/"
        },
        "id": "FPQ9q8NKTgwG",
        "outputId": "6bc74f0b-5913-4e5d-b768-e773b1a6a772"
      },
      "execution_count": 64,
      "outputs": [
        {
          "output_type": "execute_result",
          "data": {
            "text/plain": [
              "1"
            ]
          },
          "metadata": {},
          "execution_count": 64
        }
      ]
    },
    {
      "cell_type": "code",
      "source": [
        "arr = np.array([\"a\", 2, 3, 4], dtype = \"int\")\n",
        "print(arr)\n",
        "print(arr.dtype)"
      ],
      "metadata": {
        "colab": {
          "base_uri": "https://localhost:8080/",
          "height": 192
        },
        "id": "Ec7W60YtTl-K",
        "outputId": "8c46ba39-a3f0-4c10-b71e-afa363329542"
      },
      "execution_count": 65,
      "outputs": [
        {
          "output_type": "error",
          "ename": "ValueError",
          "evalue": "invalid literal for int() with base 10: 'a'",
          "traceback": [
            "\u001b[0;31m---------------------------------------------------------------------------\u001b[0m",
            "\u001b[0;31mValueError\u001b[0m                                Traceback (most recent call last)",
            "\u001b[0;32m<ipython-input-65-1ed7fa884662>\u001b[0m in \u001b[0;36m<cell line: 1>\u001b[0;34m()\u001b[0m\n\u001b[0;32m----> 1\u001b[0;31m \u001b[0marr\u001b[0m \u001b[0;34m=\u001b[0m \u001b[0mnp\u001b[0m\u001b[0;34m.\u001b[0m\u001b[0marray\u001b[0m\u001b[0;34m(\u001b[0m\u001b[0;34m[\u001b[0m\u001b[0;34m\"a\"\u001b[0m\u001b[0;34m,\u001b[0m \u001b[0;36m2\u001b[0m\u001b[0;34m,\u001b[0m \u001b[0;36m3\u001b[0m\u001b[0;34m,\u001b[0m \u001b[0;36m4\u001b[0m\u001b[0;34m]\u001b[0m\u001b[0;34m,\u001b[0m \u001b[0mdtype\u001b[0m \u001b[0;34m=\u001b[0m \u001b[0;34m\"int\"\u001b[0m\u001b[0;34m)\u001b[0m\u001b[0;34m\u001b[0m\u001b[0;34m\u001b[0m\u001b[0m\n\u001b[0m\u001b[1;32m      2\u001b[0m \u001b[0mprint\u001b[0m\u001b[0;34m(\u001b[0m\u001b[0marr\u001b[0m\u001b[0;34m)\u001b[0m\u001b[0;34m\u001b[0m\u001b[0;34m\u001b[0m\u001b[0m\n\u001b[1;32m      3\u001b[0m \u001b[0mprint\u001b[0m\u001b[0;34m(\u001b[0m\u001b[0marr\u001b[0m\u001b[0;34m.\u001b[0m\u001b[0mdtype\u001b[0m\u001b[0;34m)\u001b[0m\u001b[0;34m\u001b[0m\u001b[0;34m\u001b[0m\u001b[0m\n",
            "\u001b[0;31mValueError\u001b[0m: invalid literal for int() with base 10: 'a'"
          ]
        }
      ]
    },
    {
      "cell_type": "code",
      "source": [
        "arr = np.array([\"1\", 2, 3, 4])\n",
        "print(arr)\n",
        "print(arr.dtype)"
      ],
      "metadata": {
        "colab": {
          "base_uri": "https://localhost:8080/"
        },
        "id": "Mg8oX1rpT1bg",
        "outputId": "d01dcde8-874e-46d4-a99a-7d01284a2300"
      },
      "execution_count": 66,
      "outputs": [
        {
          "output_type": "stream",
          "name": "stdout",
          "text": [
            "['1' '2' '3' '4']\n",
            "<U21\n"
          ]
        }
      ]
    },
    {
      "cell_type": "markdown",
      "source": [
        "np.astype: Can be used after array is created"
      ],
      "metadata": {
        "id": "awk_rQFeT_Rd"
      }
    },
    {
      "cell_type": "code",
      "source": [
        "arr.astype('int')"
      ],
      "metadata": {
        "colab": {
          "base_uri": "https://localhost:8080/"
        },
        "id": "N9AUFOX7T8Oe",
        "outputId": "002625de-cc4c-4f9c-f60d-1c01de72b17e"
      },
      "execution_count": 67,
      "outputs": [
        {
          "output_type": "execute_result",
          "data": {
            "text/plain": [
              "array([1, 2, 3, 4])"
            ]
          },
          "metadata": {},
          "execution_count": 67
        }
      ]
    },
    {
      "cell_type": "markdown",
      "source": [
        "#### INDEXING"
      ],
      "metadata": {
        "id": "1uBtCBH74Gcf"
      }
    },
    {
      "cell_type": "code",
      "source": [
        "m1 = np.arange(12)\n",
        "m1"
      ],
      "metadata": {
        "colab": {
          "base_uri": "https://localhost:8080/"
        },
        "id": "XlrPdoxhUaP7",
        "outputId": "24ab25da-9bc9-4ff1-b162-80165dbbed5d"
      },
      "execution_count": 68,
      "outputs": [
        {
          "output_type": "execute_result",
          "data": {
            "text/plain": [
              "array([ 0,  1,  2,  3,  4,  5,  6,  7,  8,  9, 10, 11])"
            ]
          },
          "metadata": {},
          "execution_count": 68
        }
      ]
    },
    {
      "cell_type": "code",
      "source": [
        "m1[0]"
      ],
      "metadata": {
        "colab": {
          "base_uri": "https://localhost:8080/"
        },
        "id": "E5pXiB1OUdue",
        "outputId": "40f221a9-0376-44b8-ea12-d36284f2b007"
      },
      "execution_count": 69,
      "outputs": [
        {
          "output_type": "execute_result",
          "data": {
            "text/plain": [
              "0"
            ]
          },
          "metadata": {},
          "execution_count": 69
        }
      ]
    },
    {
      "cell_type": "code",
      "source": [
        "m1[-1]"
      ],
      "metadata": {
        "colab": {
          "base_uri": "https://localhost:8080/"
        },
        "id": "1mgEr1zGUgl5",
        "outputId": "ec3a47f4-6ee7-4265-997a-b3853acf6a70"
      },
      "execution_count": 70,
      "outputs": [
        {
          "output_type": "execute_result",
          "data": {
            "text/plain": [
              "11"
            ]
          },
          "metadata": {},
          "execution_count": 70
        }
      ]
    },
    {
      "cell_type": "code",
      "source": [
        "m1_list = list(range(12))\n",
        "m1_list"
      ],
      "metadata": {
        "colab": {
          "base_uri": "https://localhost:8080/"
        },
        "id": "8BgJIZRHUlgC",
        "outputId": "45a74710-c0a9-4963-d9d8-e21232813652"
      },
      "execution_count": 71,
      "outputs": [
        {
          "output_type": "execute_result",
          "data": {
            "text/plain": [
              "[0, 1, 2, 3, 4, 5, 6, 7, 8, 9, 10, 11]"
            ]
          },
          "metadata": {},
          "execution_count": 71
        }
      ]
    },
    {
      "cell_type": "code",
      "source": [
        "m1_list[3], m1_list[5]"
      ],
      "metadata": {
        "colab": {
          "base_uri": "https://localhost:8080/"
        },
        "id": "BPj0IvIBUlc2",
        "outputId": "c4e97f18-34ed-4d64-a146-a499dd80771f"
      },
      "execution_count": 72,
      "outputs": [
        {
          "output_type": "execute_result",
          "data": {
            "text/plain": [
              "(3, 5)"
            ]
          },
          "metadata": {},
          "execution_count": 72
        }
      ]
    },
    {
      "cell_type": "code",
      "source": [
        "m1[3], m1[5]"
      ],
      "metadata": {
        "colab": {
          "base_uri": "https://localhost:8080/"
        },
        "id": "uW12M_V9UlZ3",
        "outputId": "62f885e4-a741-4da2-ce10-f78cd0a5f17c"
      },
      "execution_count": 73,
      "outputs": [
        {
          "output_type": "execute_result",
          "data": {
            "text/plain": [
              "(3, 5)"
            ]
          },
          "metadata": {},
          "execution_count": 73
        }
      ]
    },
    {
      "cell_type": "markdown",
      "source": [
        "Accessing multiple elements with indexing:\n",
        "\n",
        "create array of all indexes you wnat. access and pass the array as index"
      ],
      "metadata": {
        "id": "YxRO7ck8VGYA"
      }
    },
    {
      "cell_type": "code",
      "source": [
        "m1[[3, 5]]"
      ],
      "metadata": {
        "colab": {
          "base_uri": "https://localhost:8080/"
        },
        "id": "iqF6LcAFUlXV",
        "outputId": "a566ba5a-d72f-422e-8074-06e1038955d1"
      },
      "execution_count": 74,
      "outputs": [
        {
          "output_type": "execute_result",
          "data": {
            "text/plain": [
              "array([3, 5])"
            ]
          },
          "metadata": {},
          "execution_count": 74
        }
      ]
    },
    {
      "cell_type": "code",
      "source": [
        "m1[[3, 5, 9]]"
      ],
      "metadata": {
        "colab": {
          "base_uri": "https://localhost:8080/"
        },
        "id": "geRKb-iMUlUs",
        "outputId": "ab81aa6b-2f22-4a95-e23b-cd59137e097d"
      },
      "execution_count": 75,
      "outputs": [
        {
          "output_type": "execute_result",
          "data": {
            "text/plain": [
              "array([3, 5, 9])"
            ]
          },
          "metadata": {},
          "execution_count": 75
        }
      ]
    },
    {
      "cell_type": "code",
      "source": [
        "m1[[3, 5, 3,5]]"
      ],
      "metadata": {
        "colab": {
          "base_uri": "https://localhost:8080/"
        },
        "id": "5BeqhSs3VhdA",
        "outputId": "09712282-5802-4bde-8faf-e967438ec517"
      },
      "execution_count": 76,
      "outputs": [
        {
          "output_type": "execute_result",
          "data": {
            "text/plain": [
              "array([3, 5, 3, 5])"
            ]
          },
          "metadata": {},
          "execution_count": 76
        }
      ]
    },
    {
      "cell_type": "code",
      "source": [
        "m1 = np.array([100,200,300,400,500,600])\n",
        "indexes = [2,3,4,2]\n",
        "m1[indexes]"
      ],
      "metadata": {
        "colab": {
          "base_uri": "https://localhost:8080/"
        },
        "id": "UxbxlwkiVm8o",
        "outputId": "f187bc57-54c5-4842-e49d-bdfc865f0997"
      },
      "execution_count": 77,
      "outputs": [
        {
          "output_type": "execute_result",
          "data": {
            "text/plain": [
              "array([300, 400, 500, 300])"
            ]
          },
          "metadata": {},
          "execution_count": 77
        }
      ]
    },
    {
      "cell_type": "code",
      "source": [
        "m1[3, 5, 3, 5]"
      ],
      "metadata": {
        "colab": {
          "base_uri": "https://localhost:8080/",
          "height": 158
        },
        "id": "XUyFx_DYV-_W",
        "outputId": "4d6a9ad2-7fe9-4503-b323-6ea114aa8c2e"
      },
      "execution_count": 79,
      "outputs": [
        {
          "output_type": "error",
          "ename": "IndexError",
          "evalue": "too many indices for array: array is 1-dimensional, but 4 were indexed",
          "traceback": [
            "\u001b[0;31m---------------------------------------------------------------------------\u001b[0m",
            "\u001b[0;31mIndexError\u001b[0m                                Traceback (most recent call last)",
            "\u001b[0;32m<ipython-input-79-7bbcc9dab94f>\u001b[0m in \u001b[0;36m<cell line: 1>\u001b[0;34m()\u001b[0m\n\u001b[0;32m----> 1\u001b[0;31m \u001b[0mm1\u001b[0m\u001b[0;34m[\u001b[0m\u001b[0;36m3\u001b[0m\u001b[0;34m,\u001b[0m \u001b[0;36m5\u001b[0m\u001b[0;34m,\u001b[0m \u001b[0;36m3\u001b[0m\u001b[0;34m,\u001b[0m \u001b[0;36m5\u001b[0m\u001b[0;34m]\u001b[0m\u001b[0;34m\u001b[0m\u001b[0;34m\u001b[0m\u001b[0m\n\u001b[0m",
            "\u001b[0;31mIndexError\u001b[0m: too many indices for array: array is 1-dimensional, but 4 were indexed"
          ]
        }
      ]
    },
    {
      "cell_type": "markdown",
      "source": [
        "Slicing"
      ],
      "metadata": {
        "id": "ZCDov_lEWmPs"
      }
    },
    {
      "cell_type": "code",
      "source": [
        "m1 = np.array([1, 2, 3, 4, 5, 6, 7, 8, 9, 10])\n",
        "#--->\n"
      ],
      "metadata": {
        "id": "-kP6nRsmWn_w"
      },
      "execution_count": 80,
      "outputs": []
    },
    {
      "cell_type": "code",
      "source": [
        "m1[:3]"
      ],
      "metadata": {
        "colab": {
          "base_uri": "https://localhost:8080/"
        },
        "id": "TeSoOt2tWp-o",
        "outputId": "7a0a1c33-ff63-4e5a-ff78-f97109dc9166"
      },
      "execution_count": 81,
      "outputs": [
        {
          "output_type": "execute_result",
          "data": {
            "text/plain": [
              "array([1, 2, 3])"
            ]
          },
          "metadata": {},
          "execution_count": 81
        }
      ]
    },
    {
      "cell_type": "code",
      "source": [
        "m1[-5:]"
      ],
      "metadata": {
        "colab": {
          "base_uri": "https://localhost:8080/"
        },
        "id": "0J0i_TfHWs3V",
        "outputId": "90d38974-53b4-4a29-b42d-36322b377af1"
      },
      "execution_count": 82,
      "outputs": [
        {
          "output_type": "execute_result",
          "data": {
            "text/plain": [
              "array([ 6,  7,  8,  9, 10])"
            ]
          },
          "metadata": {},
          "execution_count": 82
        }
      ]
    },
    {
      "cell_type": "code",
      "source": [
        "m1[-5:-2]"
      ],
      "metadata": {
        "colab": {
          "base_uri": "https://localhost:8080/"
        },
        "id": "kuESokVRW4jO",
        "outputId": "38cf13b7-3fee-402f-f99f-30bb3864d994"
      },
      "execution_count": 83,
      "outputs": [
        {
          "output_type": "execute_result",
          "data": {
            "text/plain": [
              "array([6, 7, 8])"
            ]
          },
          "metadata": {},
          "execution_count": 83
        }
      ]
    },
    {
      "cell_type": "code",
      "source": [
        "m1[5:2]"
      ],
      "metadata": {
        "colab": {
          "base_uri": "https://localhost:8080/"
        },
        "id": "4qARr8utW-lD",
        "outputId": "fdaa76d7-7fc6-4699-97b6-a09eefaa73c8"
      },
      "execution_count": 84,
      "outputs": [
        {
          "output_type": "execute_result",
          "data": {
            "text/plain": [
              "array([], dtype=int64)"
            ]
          },
          "metadata": {},
          "execution_count": 84
        }
      ]
    },
    {
      "cell_type": "code",
      "source": [
        "m1[500:20000]"
      ],
      "metadata": {
        "colab": {
          "base_uri": "https://localhost:8080/"
        },
        "id": "z1UYtDnaXFY9",
        "outputId": "6433cc3b-73f0-4ec8-fa18-a9af22bf51f0"
      },
      "execution_count": 85,
      "outputs": [
        {
          "output_type": "execute_result",
          "data": {
            "text/plain": [
              "array([], dtype=int64)"
            ]
          },
          "metadata": {},
          "execution_count": 85
        }
      ]
    },
    {
      "cell_type": "code",
      "source": [
        "import numpy as np\n",
        "a = np.array([0,1,2,3,4,5])\n",
        "a[4:] = 10 # index 4 onwards will be replaced\n",
        "print(a)"
      ],
      "metadata": {
        "colab": {
          "base_uri": "https://localhost:8080/"
        },
        "id": "bB4NLuWYYIuf",
        "outputId": "5226d130-de11-4879-9636-d1a68e1c839c"
      },
      "execution_count": 86,
      "outputs": [
        {
          "output_type": "stream",
          "name": "stdout",
          "text": [
            "[ 0  1  2  3 10 10]\n"
          ]
        }
      ]
    },
    {
      "cell_type": "markdown",
      "source": [
        "### Masking (Fancy Indexing):\n",
        "used for indexing via Boolean Arrays"
      ],
      "metadata": {
        "id": "rzSnlTI-YB6D"
      }
    },
    {
      "cell_type": "code",
      "source": [
        "m1 = np.array([1, 2, 3, 4])"
      ],
      "metadata": {
        "id": "Vl3SX1dmXSLt"
      },
      "execution_count": 87,
      "outputs": []
    },
    {
      "cell_type": "code",
      "source": [
        "bool_ar  = [True, False, True, True]"
      ],
      "metadata": {
        "id": "DS1cVw19XS96"
      },
      "execution_count": 94,
      "outputs": []
    },
    {
      "cell_type": "code",
      "source": [
        "m1[[0,2,3]]"
      ],
      "metadata": {
        "colab": {
          "base_uri": "https://localhost:8080/"
        },
        "id": "Y-CsKGz1XTAS",
        "outputId": "99a30772-dd54-44b9-cc0f-df5b0badb7f3"
      },
      "execution_count": 95,
      "outputs": [
        {
          "output_type": "execute_result",
          "data": {
            "text/plain": [
              "array([1, 3, 4])"
            ]
          },
          "metadata": {},
          "execution_count": 95
        }
      ]
    },
    {
      "cell_type": "code",
      "source": [
        "m1[bool_ar]"
      ],
      "metadata": {
        "colab": {
          "base_uri": "https://localhost:8080/"
        },
        "id": "Fo3wl0l0XTC5",
        "outputId": "61c17085-1f14-43f3-e645-b1ea0eb46f84"
      },
      "execution_count": 96,
      "outputs": [
        {
          "output_type": "execute_result",
          "data": {
            "text/plain": [
              "array([1, 3, 4])"
            ]
          },
          "metadata": {},
          "execution_count": 96
        }
      ]
    },
    {
      "cell_type": "markdown",
      "source": [
        "Extract all people who have height greater then 150 CM"
      ],
      "metadata": {
        "id": "XCgOzO46ZP4h"
      }
    },
    {
      "cell_type": "code",
      "source": [
        "heights = np.array([100, 150, 180, 192])\n",
        "heights"
      ],
      "metadata": {
        "colab": {
          "base_uri": "https://localhost:8080/"
        },
        "id": "vFFyltIpXSOZ",
        "outputId": "f3af2679-2750-4317-ffda-79173aab1b53"
      },
      "execution_count": 97,
      "outputs": [
        {
          "output_type": "execute_result",
          "data": {
            "text/plain": [
              "array([100, 150, 180, 192])"
            ]
          },
          "metadata": {},
          "execution_count": 97
        }
      ]
    },
    {
      "cell_type": "code",
      "source": [
        "heights > 150"
      ],
      "metadata": {
        "colab": {
          "base_uri": "https://localhost:8080/"
        },
        "id": "tojW4LLwXSRu",
        "outputId": "810ea70e-63e4-4160-877e-7c59496a674d"
      },
      "execution_count": 98,
      "outputs": [
        {
          "output_type": "execute_result",
          "data": {
            "text/plain": [
              "array([False, False,  True,  True])"
            ]
          },
          "metadata": {},
          "execution_count": 98
        }
      ]
    },
    {
      "cell_type": "code",
      "source": [
        "heights[heights > 150]"
      ],
      "metadata": {
        "colab": {
          "base_uri": "https://localhost:8080/"
        },
        "id": "3FR1fVftZg19",
        "outputId": "5c3800a4-a832-44b1-d1ec-60f2b7cfb349"
      },
      "execution_count": 99,
      "outputs": [
        {
          "output_type": "execute_result",
          "data": {
            "text/plain": [
              "array([180, 192])"
            ]
          },
          "metadata": {},
          "execution_count": 99
        }
      ]
    },
    {
      "cell_type": "code",
      "source": [
        "m1 = np.array([1, 2, 3, 4])\n",
        "# extract all elements which are even"
      ],
      "metadata": {
        "id": "mSVSMTcaZnZ-"
      },
      "execution_count": 100,
      "outputs": []
    },
    {
      "cell_type": "markdown",
      "source": [
        "Quiz"
      ],
      "metadata": {
        "id": "XDKX7hS6aFKU"
      }
    },
    {
      "cell_type": "code",
      "source": [
        "a = np.array([1,2,3,4,5])\n",
        "b = np.array([8,7,6])\n",
        "a[2:]"
      ],
      "metadata": {
        "colab": {
          "base_uri": "https://localhost:8080/"
        },
        "id": "Z_ChfDGTZ-VF",
        "outputId": "c200e0e6-336c-4f5e-81ed-7fb595527e09"
      },
      "execution_count": 101,
      "outputs": [
        {
          "output_type": "execute_result",
          "data": {
            "text/plain": [
              "array([3, 4, 5])"
            ]
          },
          "metadata": {},
          "execution_count": 101
        }
      ]
    },
    {
      "cell_type": "code",
      "source": [
        "b[::-1] # reverse of b"
      ],
      "metadata": {
        "colab": {
          "base_uri": "https://localhost:8080/"
        },
        "id": "5MYRXWA3Z_Zz",
        "outputId": "099ae89c-8a7a-4693-e14a-526e9c619d21"
      },
      "execution_count": 102,
      "outputs": [
        {
          "output_type": "execute_result",
          "data": {
            "text/plain": [
              "array([6, 7, 8])"
            ]
          },
          "metadata": {},
          "execution_count": 102
        }
      ]
    },
    {
      "cell_type": "code",
      "source": [
        "a[2:] = b[::-1]\n",
        "print(a)"
      ],
      "metadata": {
        "colab": {
          "base_uri": "https://localhost:8080/"
        },
        "id": "FAow77uWaCmW",
        "outputId": "5c797c17-fd89-46ca-8e8a-371865f20526"
      },
      "execution_count": 103,
      "outputs": [
        {
          "output_type": "stream",
          "name": "stdout",
          "text": [
            "[1 2 6 7 8]\n"
          ]
        }
      ]
    },
    {
      "cell_type": "code",
      "source": [
        "a = np.array([1,2,3,4,5])\n",
        "b = np.array([8,7,6])\n",
        "a[3:] = b[::-2]\n",
        "print(a)"
      ],
      "metadata": {
        "colab": {
          "base_uri": "https://localhost:8080/"
        },
        "id": "Fz-k2dOmaiIO",
        "outputId": "6c48bccb-75d1-49bb-caac-801daad8d5ad"
      },
      "execution_count": 104,
      "outputs": [
        {
          "output_type": "stream",
          "name": "stdout",
          "text": [
            "[1 2 3 6 8]\n"
          ]
        }
      ]
    },
    {
      "cell_type": "markdown",
      "source": [
        "USE-CASE"
      ],
      "metadata": {
        "id": "GLceQUeyax2Y"
      }
    },
    {
      "cell_type": "code",
      "source": [],
      "metadata": {
        "id": "Wt7yFrr8azwH"
      },
      "execution_count": null,
      "outputs": []
    },
    {
      "cell_type": "markdown",
      "source": [],
      "metadata": {
        "id": "HPu-opmWax0H"
      }
    },
    {
      "cell_type": "markdown",
      "source": [],
      "metadata": {
        "id": "94FR8oQgaxx5"
      }
    },
    {
      "cell_type": "markdown",
      "source": [],
      "metadata": {
        "id": "ekxL27KVaxu_"
      }
    },
    {
      "cell_type": "markdown",
      "source": [
        "### NPS:\n",
        "textfile:"
      ],
      "metadata": {
        "id": "exDo-KJRaxsX"
      }
    },
    {
      "cell_type": "code",
      "source": [
        "url = 'https://drive.google.com/file/d/1c0ClC8SrPwJq5rrkyMKyPn80nyHcFikK/view?usp=sharing'"
      ],
      "metadata": {
        "id": "uj_hAMt5cAXy"
      },
      "execution_count": 105,
      "outputs": []
    },
    {
      "cell_type": "markdown",
      "source": [
        "#### steps:\n",
        "1) read file into numpy array\n",
        "\n",
        "2) calculate count of detractors and promoters via Bool Index\n",
        "\n",
        "3) calculate %\n",
        "\n",
        "4) Calculate and print NPS"
      ],
      "metadata": {
        "id": "HDPzjfiFcOIU"
      }
    },
    {
      "cell_type": "markdown",
      "source": [
        "## POSTREAD: Broadcasting in NumPy\n",
        "\n",
        "**Broadcasting** is a powerful feature in NumPy that allows arithmetic operations on arrays of different shapes. Essentially, NumPy stretches the smaller array to match the shape of the larger array before performing the operation. This is done efficiently without creating unnecessary copies of data.\n",
        "\n",
        "### Rules for Broadcasting\n",
        "\n",
        "1. **Shape compatibility:** Arrays must be compatible in shape. This means that each dimension must be either equal or one of them must be 1.\n",
        "2. **Stretching:** Arrays with smaller dimensions are stretched to match the larger array by repeating elements.\n",
        "3. **Resulting shape:** The resulting array has the maximum size along each dimension of the input arrays.\n",
        "\n"
      ],
      "metadata": {
        "id": "xfC153CK27GO"
      }
    },
    {
      "cell_type": "code",
      "source": [
        "#### Example 1: Adding a scalar to an array\n",
        "import numpy as np\n",
        "\n",
        "a = np.array([1, 2, 3])\n",
        "b = 2\n",
        "\n",
        "# Broadcasting b to match the shape of a\n",
        "c = a + b  # Output: [3 4 5] i.e [1 + 2, 2 + 2, 3 + 2]\n",
        "print(c) #Here, the scalar `b` is broadcasted to match the shape of `a`, and then the addition is performed element-wise."
      ],
      "metadata": {
        "colab": {
          "base_uri": "https://localhost:8080/"
        },
        "id": "ynFmH2eTlO7E",
        "outputId": "80fe7c92-9632-4cc9-b211-d53580477951"
      },
      "execution_count": null,
      "outputs": [
        {
          "output_type": "stream",
          "name": "stdout",
          "text": [
            "[3 4 5]\n"
          ]
        }
      ]
    },
    {
      "cell_type": "code",
      "source": [
        "\n",
        "#### Example 2: Adding arrays of different shapes\n",
        "a = np.array([[1, 2], [3, 4]])\n",
        "b = np.array([10, 20])\n",
        "\n",
        "# Broadcasting b to match the shape of a\n",
        "c = a + b  # Output: [[11 22], [13 24]]\n",
        "print(c) # In this case, `b` is broadcasted to match the shape of `a` by repeating its elements along the rows.\n"
      ],
      "metadata": {
        "colab": {
          "base_uri": "https://localhost:8080/"
        },
        "id": "ONyBURoWm4yI",
        "outputId": "e27c40cb-929f-4921-86a1-7d0937959903"
      },
      "execution_count": null,
      "outputs": [
        {
          "output_type": "stream",
          "name": "stdout",
          "text": [
            "[[11 22]\n",
            " [13 24]]\n"
          ]
        }
      ]
    },
    {
      "cell_type": "code",
      "source": [
        "#### Example 3: Multiplying arrays of different shapes\n",
        "a = np.array([[1, 2], [3, 4]])\n",
        "b = np.array([[1], [2]])\n",
        "\n",
        "# Broadcasting b to match the shape of a\n",
        "c = a * b  # Output: [[1 2], [6 8]]\n",
        "print(c) # Here, `b` is broadcasted to match the shape of `a` by repeating its columns."
      ],
      "metadata": {
        "colab": {
          "base_uri": "https://localhost:8080/"
        },
        "id": "lPxKVoq0rWfc",
        "outputId": "e891649e-ea26-4f59-a65b-3384f847c56a"
      },
      "execution_count": null,
      "outputs": [
        {
          "output_type": "stream",
          "name": "stdout",
          "text": [
            "[[1 2]\n",
            " [6 8]]\n"
          ]
        }
      ]
    },
    {
      "cell_type": "markdown",
      "source": [
        "\n",
        "### Why Broadcasting is Useful\n",
        "\n",
        "* **Efficiency:** Broadcasting often leads to significant performance improvements over explicit loops.\n",
        "* **Conciseness:** It allows for writing cleaner and more readable code.\n",
        "* **Flexibility:** It enables operations on arrays with different shapes, providing more flexibility.\n",
        "\n",
        "\n",
        "By understanding broadcasting, you can write more efficient and expressive NumPy code."
      ],
      "metadata": {
        "id": "OU99zT3p3a46"
      }
    },
    {
      "cell_type": "code",
      "source": [
        "np.arange(12)"
      ],
      "metadata": {
        "colab": {
          "base_uri": "https://localhost:8080/"
        },
        "id": "YoQ2-ZcU3ah1",
        "outputId": "758c2628-0b03-4334-c25c-9883a6ea5794"
      },
      "execution_count": null,
      "outputs": [
        {
          "output_type": "execute_result",
          "data": {
            "text/plain": [
              "array([ 0,  1,  2,  3,  4,  5,  6,  7,  8,  9, 10, 11])"
            ]
          },
          "metadata": {},
          "execution_count": 12
        }
      ]
    },
    {
      "cell_type": "code",
      "source": [
        "arr = np.array([-3,4,27,34,-2, 0, -45,-11,4, 0])\n",
        "print(np.where(arr))\n"
      ],
      "metadata": {
        "colab": {
          "base_uri": "https://localhost:8080/"
        },
        "id": "lrZia-Vo4wls",
        "outputId": "a8524960-f905-4ad8-84a1-0b7e899aabe7"
      },
      "execution_count": null,
      "outputs": [
        {
          "output_type": "stream",
          "name": "stdout",
          "text": [
            "(array([0, 1, 2, 3, 4, 6, 7, 8]),)\n"
          ]
        }
      ]
    },
    {
      "cell_type": "code",
      "source": [],
      "metadata": {
        "id": "8Z3ZjJ8KRXC-"
      },
      "execution_count": null,
      "outputs": []
    }
  ]
}
